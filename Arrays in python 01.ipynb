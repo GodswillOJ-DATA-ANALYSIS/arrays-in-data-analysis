{
 "cells": [
  {
   "cell_type": "markdown",
   "id": "c47a6abf",
   "metadata": {},
   "source": [
    "## Arrays."
   ]
  },
  {
   "cell_type": "markdown",
   "id": "c44be5e0",
   "metadata": {},
   "source": [
    "#### ** An array is a collection of items stored at contiguous memory locations. In Python, arrays can be represented using lists, tuples, and dictionaries."
   ]
  },
  {
   "cell_type": "markdown",
   "id": "aa8cc5c1",
   "metadata": {},
   "source": [
    "### Tuple--"
   ]
  },
  {
   "cell_type": "markdown",
   "id": "cdebc728",
   "metadata": {},
   "source": [
    "#### Tuple is an immutable array, they are constantly unchangeble, unless it contains lists."
   ]
  },
  {
   "cell_type": "code",
   "execution_count": 2,
   "id": "2c024a10",
   "metadata": {},
   "outputs": [
    {
     "name": "stdout",
     "output_type": "stream",
     "text": [
      "([9, 2, 3], 4, 5)\n"
     ]
    }
   ],
   "source": [
    "t = (1, 2, 3)\n",
    "# t[0] = 5  # This will raise a TypeError\n",
    "\n",
    "# Tuple with mutable element (list)\n",
    "t = ([1, 2, 3], 4, 5)\n",
    "t[0][0] = 9  # This is allowed because the list inside the tuple can be altered\n",
    "print(t)  # Output: ([9, 2, 3], 4, 5)"
   ]
  },
  {
   "cell_type": "markdown",
   "id": "ee9b6848",
   "metadata": {},
   "source": [
    "### Lists --"
   ]
  },
  {
   "cell_type": "markdown",
   "id": "b3c9cc1e",
   "metadata": {},
   "source": [
    "#### Lists are mutable, meaning the can be changed."
   ]
  },
  {
   "cell_type": "code",
   "execution_count": 3,
   "id": "594b7e70",
   "metadata": {},
   "outputs": [
    {
     "name": "stdout",
     "output_type": "stream",
     "text": [
      "[10, 3, 4]\n"
     ]
    }
   ],
   "source": [
    "# Creating a list\n",
    "my_list = [1, 2, 3]\n",
    "\n",
    "# Modifying an element of the list\n",
    "my_list[0] = 10\n",
    "\n",
    "# Adding a new element to the list\n",
    "my_list.append(4)\n",
    "\n",
    "# Removing an element from the list\n",
    "my_list.remove(2)\n",
    "\n",
    "# Printing the modified list\n",
    "print(my_list)\n"
   ]
  },
  {
   "cell_type": "markdown",
   "id": "0e862bdf",
   "metadata": {},
   "source": [
    "### Dictionaries --"
   ]
  },
  {
   "cell_type": "markdown",
   "id": "75e9c8ff",
   "metadata": {},
   "source": [
    "#### A dictionary stores data in key-value pairs. They appear in curly braces."
   ]
  },
  {
   "cell_type": "code",
   "execution_count": 4,
   "id": "d6d88e83",
   "metadata": {},
   "outputs": [
    {
     "name": "stdout",
     "output_type": "stream",
     "text": [
      "{'name': 'Jane Smith', 'email': 'jane.smith@example.com', 'age': 34, 'is_active': False}\n"
     ]
    }
   ],
   "source": [
    "# Example of a user database using a dictionary\n",
    "user_database = {\n",
    "    \"user1\": {\n",
    "        \"name\": \"John Doe\",\n",
    "        \"email\": \"john.doe@example.com\",\n",
    "        \"age\": 28,\n",
    "        \"is_active\": True\n",
    "    },\n",
    "    \"user2\": {\n",
    "        \"name\": \"Jane Smith\",\n",
    "        \"email\": \"jane.smith@example.com\",\n",
    "        \"age\": 34,\n",
    "        \"is_active\": False\n",
    "    },\n",
    "    \"user3\": {\n",
    "        \"name\": \"Mike Johnson\",\n",
    "        \"email\": \"mike.johnson@example.com\",\n",
    "        \"age\": 22,\n",
    "        \"is_active\": True\n",
    "    }\n",
    "}\n",
    "\n",
    "# Accessing data for user2\n",
    "print(user_database[\"user2\"])\n"
   ]
  },
  {
   "cell_type": "markdown",
   "id": "e3d2c828",
   "metadata": {},
   "source": [
    "## Thanks"
   ]
  },
  {
   "cell_type": "markdown",
   "id": "d8a191ed",
   "metadata": {},
   "source": [
    "### Please like and suscribe 🙏"
   ]
  },
  {
   "cell_type": "code",
   "execution_count": null,
   "id": "26606548",
   "metadata": {},
   "outputs": [],
   "source": []
  }
 ],
 "metadata": {
  "kernelspec": {
   "display_name": "Python 3 (ipykernel)",
   "language": "python",
   "name": "python3"
  },
  "language_info": {
   "codemirror_mode": {
    "name": "ipython",
    "version": 3
   },
   "file_extension": ".py",
   "mimetype": "text/x-python",
   "name": "python",
   "nbconvert_exporter": "python",
   "pygments_lexer": "ipython3",
   "version": "3.9.12"
  }
 },
 "nbformat": 4,
 "nbformat_minor": 5
}
